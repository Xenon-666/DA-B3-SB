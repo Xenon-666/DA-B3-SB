{
 "cells": [
  {
   "cell_type": "markdown",
   "id": "0daef6f4-27f3-4d7d-ab47-72d70fac6c15",
   "metadata": {},
   "source": [
    "# Session --h1"
   ]
  },
  {
   "cell_type": "markdown",
   "id": "9dd0492e-8d79-47f2-8441-d4c58f3f08de",
   "metadata": {},
   "source": [
    "## session -- h2"
   ]
  },
  {
   "cell_type": "markdown",
   "id": "117f278a-3c1b-46e7-a92b-ac440786acb8",
   "metadata": {},
   "source": [
    "### session -- h3"
   ]
  },
  {
   "cell_type": "code",
   "execution_count": 8,
   "id": "1b97c424-d1ee-41fd-90ca-4a1c4e9693f7",
   "metadata": {},
   "outputs": [
    {
     "name": "stdout",
     "output_type": "stream",
     "text": [
      "Heelo\n"
     ]
    }
   ],
   "source": [
    "print ('Heelo')"
   ]
  },
  {
   "cell_type": "code",
   "execution_count": 9,
   "id": "4ab01448-acc3-42f6-b2fa-3916db402967",
   "metadata": {},
   "outputs": [
    {
     "name": "stdout",
     "output_type": "stream",
     "text": [
      "good day\n"
     ]
    }
   ],
   "source": [
    "print ('good day')"
   ]
  },
  {
   "cell_type": "code",
   "execution_count": 13,
   "id": "223570a8-08aa-4b84-b0a4-6dbe283e04b0",
   "metadata": {},
   "outputs": [
    {
     "data": {
      "text/plain": [
       "'We learning pyhton\\nPakistan is the 7th largest country'"
      ]
     },
     "execution_count": 13,
     "metadata": {},
     "output_type": "execute_result"
    }
   ],
   "source": [
    "'''We learning pyhton\n",
    "Pakistan is the 7th largest country'''\n"
   ]
  },
  {
   "cell_type": "code",
   "execution_count": 15,
   "id": "e9a53e2b-637f-4f9a-9114-75b86b54a936",
   "metadata": {},
   "outputs": [
    {
     "name": "stdout",
     "output_type": "stream",
     "text": [
      "lookernotebook\n"
     ]
    }
   ],
   "source": [
    "jupyter = \"looker\"\n",
    "looker = \"notebook\"\n",
    "print (jupyter + looker )"
   ]
  },
  {
   "cell_type": "code",
   "execution_count": 35,
   "id": "d8e48241-14f3-4f9f-98fe-b8bb29989695",
   "metadata": {},
   "outputs": [
    {
     "data": {
      "text/plain": [
       "int"
      ]
     },
     "execution_count": 35,
     "metadata": {},
     "output_type": "execute_result"
    }
   ],
   "source": [
    "type (6%9)\n"
   ]
  },
  {
   "cell_type": "markdown",
   "id": "3d92b700-fb44-498b-9dd1-883abcf57665",
   "metadata": {},
   "source": [
    "# TypeCasting"
   ]
  },
  {
   "cell_type": "code",
   "execution_count": 17,
   "id": "fe9a048a-79e4-4982-b693-0c9f11095a30",
   "metadata": {},
   "outputs": [
    {
     "data": {
      "text/plain": [
       "'123456789'"
      ]
     },
     "execution_count": 17,
     "metadata": {},
     "output_type": "execute_result"
    }
   ],
   "source": [
    "\"12345\" + \"6789\""
   ]
  },
  {
   "cell_type": "code",
   "execution_count": 18,
   "id": "04cb100e-ea53-4e8e-8802-9a864ad5b03c",
   "metadata": {},
   "outputs": [
    {
     "data": {
      "text/plain": [
       "str"
      ]
     },
     "execution_count": 18,
     "metadata": {},
     "output_type": "execute_result"
    }
   ],
   "source": [
    "type (\"12345\")"
   ]
  },
  {
   "cell_type": "code",
   "execution_count": 19,
   "id": "7c5dda55-5304-4e39-beea-7e183e148b0a",
   "metadata": {},
   "outputs": [
    {
     "data": {
      "text/plain": [
       "int"
      ]
     },
     "execution_count": 19,
     "metadata": {},
     "output_type": "execute_result"
    }
   ],
   "source": [
    "type (int('12345'))"
   ]
  },
  {
   "cell_type": "markdown",
   "id": "cedb2bab-85e5-4bfa-ba9b-4d0e3e7ab91b",
   "metadata": {},
   "source": [
    "# List"
   ]
  },
  {
   "cell_type": "code",
   "execution_count": 49,
   "id": "1803d013-3860-41f7-86e4-087104caa219",
   "metadata": {},
   "outputs": [
    {
     "data": {
      "text/plain": [
       "['hussain', 25, 'python', 'data anlytics']"
      ]
     },
     "execution_count": 49,
     "metadata": {},
     "output_type": "execute_result"
    }
   ],
   "source": [
    "my_list =[\"hussain\",25,\"python\",\"data anlytics\"]\n",
    "my_list"
   ]
  },
  {
   "cell_type": "markdown",
   "id": "0ebb8edb-8102-46a5-b8d2-e0d4a32fdbe7",
   "metadata": {},
   "source": [
    "# Indexing"
   ]
  },
  {
   "cell_type": "code",
   "execution_count": 50,
   "id": "369b3193-543e-423a-9b0b-4098df20edfc",
   "metadata": {},
   "outputs": [
    {
     "data": {
      "text/plain": [
       "['hussain', 25, 'python', 'data anlytics']"
      ]
     },
     "execution_count": 50,
     "metadata": {},
     "output_type": "execute_result"
    }
   ],
   "source": [
    "my_list"
   ]
  },
  {
   "cell_type": "code",
   "execution_count": 51,
   "id": "57407167-62ab-4783-ab0d-954d78f3eb93",
   "metadata": {},
   "outputs": [
    {
     "data": {
      "text/plain": [
       "25"
      ]
     },
     "execution_count": 51,
     "metadata": {},
     "output_type": "execute_result"
    }
   ],
   "source": [
    "my_list [1]"
   ]
  },
  {
   "cell_type": "code",
   "execution_count": 52,
   "id": "83dda7d2-a495-4914-8c2e-78c4ffc83e49",
   "metadata": {},
   "outputs": [
    {
     "data": {
      "text/plain": [
       "'data anlytics'"
      ]
     },
     "execution_count": 52,
     "metadata": {},
     "output_type": "execute_result"
    }
   ],
   "source": [
    "my_list [3]"
   ]
  },
  {
   "cell_type": "code",
   "execution_count": 53,
   "id": "792a3136-7236-42de-8690-d84b09b78adc",
   "metadata": {},
   "outputs": [
    {
     "data": {
      "text/plain": [
       "4"
      ]
     },
     "execution_count": 53,
     "metadata": {},
     "output_type": "execute_result"
    }
   ],
   "source": [
    "len(my_list)"
   ]
  },
  {
   "cell_type": "code",
   "execution_count": 54,
   "id": "544e232e-9dd6-4b86-b672-16ca8b06ac84",
   "metadata": {},
   "outputs": [
    {
     "data": {
      "text/plain": [
       "['__add__',\n",
       " '__class__',\n",
       " '__class_getitem__',\n",
       " '__contains__',\n",
       " '__delattr__',\n",
       " '__delitem__',\n",
       " '__dir__',\n",
       " '__doc__',\n",
       " '__eq__',\n",
       " '__format__',\n",
       " '__ge__',\n",
       " '__getattribute__',\n",
       " '__getitem__',\n",
       " '__getstate__',\n",
       " '__gt__',\n",
       " '__hash__',\n",
       " '__iadd__',\n",
       " '__imul__',\n",
       " '__init__',\n",
       " '__init_subclass__',\n",
       " '__iter__',\n",
       " '__le__',\n",
       " '__len__',\n",
       " '__lt__',\n",
       " '__mul__',\n",
       " '__ne__',\n",
       " '__new__',\n",
       " '__reduce__',\n",
       " '__reduce_ex__',\n",
       " '__repr__',\n",
       " '__reversed__',\n",
       " '__rmul__',\n",
       " '__setattr__',\n",
       " '__setitem__',\n",
       " '__sizeof__',\n",
       " '__str__',\n",
       " '__subclasshook__',\n",
       " 'append',\n",
       " 'clear',\n",
       " 'copy',\n",
       " 'count',\n",
       " 'extend',\n",
       " 'index',\n",
       " 'insert',\n",
       " 'pop',\n",
       " 'remove',\n",
       " 'reverse',\n",
       " 'sort']"
      ]
     },
     "execution_count": 54,
     "metadata": {},
     "output_type": "execute_result"
    }
   ],
   "source": [
    "dir (list)"
   ]
  },
  {
   "cell_type": "code",
   "execution_count": 55,
   "id": "d072b26d-560b-46a3-b742-71c347f7405a",
   "metadata": {},
   "outputs": [
    {
     "ename": "TypeError",
     "evalue": "list indices must be integers or slices, not tuple",
     "output_type": "error",
     "traceback": [
      "\u001b[1;31m---------------------------------------------------------------------------\u001b[0m",
      "\u001b[1;31mTypeError\u001b[0m                                 Traceback (most recent call last)",
      "Cell \u001b[1;32mIn[55], line 1\u001b[0m\n\u001b[1;32m----> 1\u001b[0m my_list [\u001b[38;5;241m0\u001b[39m,\u001b[38;5;241m3\u001b[39m]\n",
      "\u001b[1;31mTypeError\u001b[0m: list indices must be integers or slices, not tuple"
     ]
    }
   ],
   "source": [
    "my_list [0,3]"
   ]
  },
  {
   "cell_type": "code",
   "execution_count": null,
   "id": "d0747a56-e33a-48bf-a4b5-c9a5315e1b45",
   "metadata": {},
   "outputs": [],
   "source": []
  },
  {
   "cell_type": "code",
   "execution_count": null,
   "id": "7e2847fb-bdc6-4f85-8e6e-033fa9262272",
   "metadata": {},
   "outputs": [],
   "source": []
  },
  {
   "cell_type": "code",
   "execution_count": null,
   "id": "9988ace4-5382-4cbe-9e32-313429cc47c9",
   "metadata": {},
   "outputs": [],
   "source": []
  },
  {
   "cell_type": "code",
   "execution_count": null,
   "id": "48c5b099-6e07-4887-b0da-9a44f3a85f65",
   "metadata": {},
   "outputs": [],
   "source": []
  },
  {
   "cell_type": "code",
   "execution_count": null,
   "id": "9f87ebf0-9a3a-472a-a4ff-38bbdb0b64d5",
   "metadata": {},
   "outputs": [],
   "source": []
  }
 ],
 "metadata": {
  "kernelspec": {
   "display_name": "Python 3 (ipykernel)",
   "language": "python",
   "name": "python3"
  },
  "language_info": {
   "codemirror_mode": {
    "name": "ipython",
    "version": 3
   },
   "file_extension": ".py",
   "mimetype": "text/x-python",
   "name": "python",
   "nbconvert_exporter": "python",
   "pygments_lexer": "ipython3",
   "version": "3.12.7"
  }
 },
 "nbformat": 4,
 "nbformat_minor": 5
}
